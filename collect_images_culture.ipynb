{
 "cells": [
  {
   "cell_type": "markdown",
   "id": "08abd7c4",
   "metadata": {},
   "source": [
    "The purpose of this notebook is to collect the images of artworks (with some preprocessing) using the API of the MET. "
   ]
  },
  {
   "cell_type": "code",
   "execution_count": 2,
   "id": "0f506883",
   "metadata": {},
   "outputs": [],
   "source": [
    "import numpy as np\n",
    "import pandas as pd"
   ]
  },
  {
   "cell_type": "code",
   "execution_count": 3,
   "id": "7dd11d75",
   "metadata": {},
   "outputs": [],
   "source": [
    "#this CSV was given by the API of the MET\n",
    "df = pd.read_csv('data_loic.csv',sep=\",\", low_memory=False)"
   ]
  },
  {
   "cell_type": "code",
   "execution_count": 4,
   "id": "83eb31d5",
   "metadata": {},
   "outputs": [
    {
     "data": {
      "text/html": [
       "<div>\n",
       "<style scoped>\n",
       "    .dataframe tbody tr th:only-of-type {\n",
       "        vertical-align: middle;\n",
       "    }\n",
       "\n",
       "    .dataframe tbody tr th {\n",
       "        vertical-align: top;\n",
       "    }\n",
       "\n",
       "    .dataframe thead th {\n",
       "        text-align: right;\n",
       "    }\n",
       "</style>\n",
       "<table border=\"1\" class=\"dataframe\">\n",
       "  <thead>\n",
       "    <tr style=\"text-align: right;\">\n",
       "      <th></th>\n",
       "      <th>Object Number</th>\n",
       "      <th>Is Highlight</th>\n",
       "      <th>Is Timeline Work</th>\n",
       "      <th>Is Public Domain</th>\n",
       "      <th>Object ID</th>\n",
       "      <th>Gallery Number</th>\n",
       "      <th>Department</th>\n",
       "      <th>AccessionYear</th>\n",
       "      <th>Object Name</th>\n",
       "      <th>Title</th>\n",
       "      <th>...</th>\n",
       "      <th>Classification</th>\n",
       "      <th>Rights and Reproduction</th>\n",
       "      <th>Link Resource</th>\n",
       "      <th>Object Wikidata URL</th>\n",
       "      <th>Metadata Date</th>\n",
       "      <th>Repository</th>\n",
       "      <th>Tags</th>\n",
       "      <th>Tags AAT URL</th>\n",
       "      <th>Tags Wikidata URL</th>\n",
       "      <th>Historical Period</th>\n",
       "    </tr>\n",
       "  </thead>\n",
       "  <tbody>\n",
       "    <tr>\n",
       "      <th>0</th>\n",
       "      <td>10.125.583o</td>\n",
       "      <td>False</td>\n",
       "      <td>False</td>\n",
       "      <td>False</td>\n",
       "      <td>5209</td>\n",
       "      <td>774</td>\n",
       "      <td>European Sculpture and Decorative Arts</td>\n",
       "      <td>1910</td>\n",
       "      <td>Curtain knob</td>\n",
       "      <td>Curtain knob</td>\n",
       "      <td>...</td>\n",
       "      <td>Metalwork</td>\n",
       "      <td>NaN</td>\n",
       "      <td>http://www.metmuseum.org/art/collection/search...</td>\n",
       "      <td>NaN</td>\n",
       "      <td>NaN</td>\n",
       "      <td>Metropolitan Museum of Art, New York, NY</td>\n",
       "      <td>NaN</td>\n",
       "      <td>NaN</td>\n",
       "      <td>NaN</td>\n",
       "      <td>Modern Times</td>\n",
       "    </tr>\n",
       "    <tr>\n",
       "      <th>1</th>\n",
       "      <td>10.125.583p</td>\n",
       "      <td>False</td>\n",
       "      <td>False</td>\n",
       "      <td>False</td>\n",
       "      <td>5210</td>\n",
       "      <td>NaN</td>\n",
       "      <td>European Sculpture and Decorative Arts</td>\n",
       "      <td>1910</td>\n",
       "      <td>Curtain knob</td>\n",
       "      <td>Curtain knob</td>\n",
       "      <td>...</td>\n",
       "      <td>Metalwork</td>\n",
       "      <td>NaN</td>\n",
       "      <td>http://www.metmuseum.org/art/collection/search...</td>\n",
       "      <td>NaN</td>\n",
       "      <td>NaN</td>\n",
       "      <td>Metropolitan Museum of Art, New York, NY</td>\n",
       "      <td>Eagles</td>\n",
       "      <td>http://vocab.getty.edu/page/aat/300250049</td>\n",
       "      <td>https://www.wikidata.org/wiki/Q2092297</td>\n",
       "      <td>Modern Times</td>\n",
       "    </tr>\n",
       "    <tr>\n",
       "      <th>2</th>\n",
       "      <td>06.719</td>\n",
       "      <td>False</td>\n",
       "      <td>False</td>\n",
       "      <td>True</td>\n",
       "      <td>7829</td>\n",
       "      <td>NaN</td>\n",
       "      <td>European Sculpture and Decorative Arts</td>\n",
       "      <td>1906</td>\n",
       "      <td>Spoon</td>\n",
       "      <td>Spoon</td>\n",
       "      <td>...</td>\n",
       "      <td>Metalwork</td>\n",
       "      <td>NaN</td>\n",
       "      <td>http://www.metmuseum.org/art/collection/search...</td>\n",
       "      <td>NaN</td>\n",
       "      <td>NaN</td>\n",
       "      <td>Metropolitan Museum of Art, New York, NY</td>\n",
       "      <td>NaN</td>\n",
       "      <td>NaN</td>\n",
       "      <td>NaN</td>\n",
       "      <td>Modern Times</td>\n",
       "    </tr>\n",
       "    <tr>\n",
       "      <th>3</th>\n",
       "      <td>1976.97</td>\n",
       "      <td>False</td>\n",
       "      <td>False</td>\n",
       "      <td>True</td>\n",
       "      <td>9367</td>\n",
       "      <td>774</td>\n",
       "      <td>Modern and Contemporary Art</td>\n",
       "      <td>1976</td>\n",
       "      <td>Vase</td>\n",
       "      <td>Vase</td>\n",
       "      <td>...</td>\n",
       "      <td>Ceramics</td>\n",
       "      <td>NaN</td>\n",
       "      <td>http://www.metmuseum.org/art/collection/search...</td>\n",
       "      <td>NaN</td>\n",
       "      <td>NaN</td>\n",
       "      <td>Metropolitan Museum of Art, New York, NY</td>\n",
       "      <td>NaN</td>\n",
       "      <td>NaN</td>\n",
       "      <td>NaN</td>\n",
       "      <td>Contemporary Era</td>\n",
       "    </tr>\n",
       "    <tr>\n",
       "      <th>4</th>\n",
       "      <td>2014.88</td>\n",
       "      <td>False</td>\n",
       "      <td>False</td>\n",
       "      <td>True</td>\n",
       "      <td>21466</td>\n",
       "      <td>NaN</td>\n",
       "      <td>European Sculpture and Decorative Arts</td>\n",
       "      <td>2014</td>\n",
       "      <td>Hanging</td>\n",
       "      <td>Hanging depicting a European conflict in South...</td>\n",
       "      <td>...</td>\n",
       "      <td>Textiles</td>\n",
       "      <td>NaN</td>\n",
       "      <td>http://www.metmuseum.org/art/collection/search...</td>\n",
       "      <td>NaN</td>\n",
       "      <td>NaN</td>\n",
       "      <td>Metropolitan Museum of Art, New York, NY</td>\n",
       "      <td>Battles|Soldiers|Horse Riding|Insignia</td>\n",
       "      <td>http://vocab.getty.edu/page/aat/300185692|http...</td>\n",
       "      <td>https://www.wikidata.org/wiki/Q178561|https://...</td>\n",
       "      <td>Modern Times</td>\n",
       "    </tr>\n",
       "  </tbody>\n",
       "</table>\n",
       "<p>5 rows × 55 columns</p>\n",
       "</div>"
      ],
      "text/plain": [
       "  Object Number  Is Highlight  Is Timeline Work  Is Public Domain  Object ID  \\\n",
       "0   10.125.583o         False             False             False       5209   \n",
       "1   10.125.583p         False             False             False       5210   \n",
       "2        06.719         False             False              True       7829   \n",
       "3       1976.97         False             False              True       9367   \n",
       "4       2014.88         False             False              True      21466   \n",
       "\n",
       "  Gallery Number                              Department AccessionYear  \\\n",
       "0            774  European Sculpture and Decorative Arts          1910   \n",
       "1            NaN  European Sculpture and Decorative Arts          1910   \n",
       "2            NaN  European Sculpture and Decorative Arts          1906   \n",
       "3            774             Modern and Contemporary Art          1976   \n",
       "4            NaN  European Sculpture and Decorative Arts          2014   \n",
       "\n",
       "    Object Name                                              Title  ...  \\\n",
       "0  Curtain knob                                       Curtain knob  ...   \n",
       "1  Curtain knob                                       Curtain knob  ...   \n",
       "2         Spoon                                              Spoon  ...   \n",
       "3          Vase                                               Vase  ...   \n",
       "4       Hanging  Hanging depicting a European conflict in South...  ...   \n",
       "\n",
       "  Classification Rights and Reproduction  \\\n",
       "0      Metalwork                     NaN   \n",
       "1      Metalwork                     NaN   \n",
       "2      Metalwork                     NaN   \n",
       "3       Ceramics                     NaN   \n",
       "4       Textiles                     NaN   \n",
       "\n",
       "                                       Link Resource  Object Wikidata URL  \\\n",
       "0  http://www.metmuseum.org/art/collection/search...                  NaN   \n",
       "1  http://www.metmuseum.org/art/collection/search...                  NaN   \n",
       "2  http://www.metmuseum.org/art/collection/search...                  NaN   \n",
       "3  http://www.metmuseum.org/art/collection/search...                  NaN   \n",
       "4  http://www.metmuseum.org/art/collection/search...                  NaN   \n",
       "\n",
       "  Metadata Date                                Repository  \\\n",
       "0           NaN  Metropolitan Museum of Art, New York, NY   \n",
       "1           NaN  Metropolitan Museum of Art, New York, NY   \n",
       "2           NaN  Metropolitan Museum of Art, New York, NY   \n",
       "3           NaN  Metropolitan Museum of Art, New York, NY   \n",
       "4           NaN  Metropolitan Museum of Art, New York, NY   \n",
       "\n",
       "                                     Tags  \\\n",
       "0                                     NaN   \n",
       "1                                  Eagles   \n",
       "2                                     NaN   \n",
       "3                                     NaN   \n",
       "4  Battles|Soldiers|Horse Riding|Insignia   \n",
       "\n",
       "                                        Tags AAT URL  \\\n",
       "0                                                NaN   \n",
       "1          http://vocab.getty.edu/page/aat/300250049   \n",
       "2                                                NaN   \n",
       "3                                                NaN   \n",
       "4  http://vocab.getty.edu/page/aat/300185692|http...   \n",
       "\n",
       "                                   Tags Wikidata URL Historical Period  \n",
       "0                                                NaN      Modern Times  \n",
       "1             https://www.wikidata.org/wiki/Q2092297      Modern Times  \n",
       "2                                                NaN      Modern Times  \n",
       "3                                                NaN  Contemporary Era  \n",
       "4  https://www.wikidata.org/wiki/Q178561|https://...      Modern Times  \n",
       "\n",
       "[5 rows x 55 columns]"
      ]
     },
     "execution_count": 4,
     "metadata": {},
     "output_type": "execute_result"
    }
   ],
   "source": [
    "df.head()"
   ]
  },
  {
   "cell_type": "code",
   "execution_count": 5,
   "id": "075bbd5e",
   "metadata": {},
   "outputs": [
    {
     "data": {
      "text/plain": [
       "Index(['Object Number', 'Is Highlight', 'Is Timeline Work', 'Is Public Domain',\n",
       "       'Object ID', 'Gallery Number', 'Department', 'AccessionYear',\n",
       "       'Object Name', 'Title', 'Culture', 'Period', 'Dynasty', 'Reign',\n",
       "       'Portfolio', 'Constituent ID', 'Artist Role', 'Artist Prefix',\n",
       "       'Artist Display Name', 'Artist Display Bio', 'Artist Suffix',\n",
       "       'Artist Alpha Sort', 'Artist Nationality', 'Artist Begin Date',\n",
       "       'Artist End Date', 'Artist Gender', 'Artist ULAN URL',\n",
       "       'Artist Wikidata URL', 'Object Date', 'Object Begin Date',\n",
       "       'Object End Date', 'Medium', 'Dimensions', 'Credit Line',\n",
       "       'Geography Type', 'City', 'State', 'County', 'Country', 'Region',\n",
       "       'Subregion', 'Locale', 'Locus', 'Excavation', 'River', 'Classification',\n",
       "       'Rights and Reproduction', 'Link Resource', 'Object Wikidata URL',\n",
       "       'Metadata Date', 'Repository', 'Tags', 'Tags AAT URL',\n",
       "       'Tags Wikidata URL', 'Historical Period'],\n",
       "      dtype='object')"
      ]
     },
     "execution_count": 5,
     "metadata": {},
     "output_type": "execute_result"
    }
   ],
   "source": [
    "df.columns"
   ]
  },
  {
   "cell_type": "code",
   "execution_count": 6,
   "id": "f6a8bbe8",
   "metadata": {},
   "outputs": [
    {
     "data": {
      "text/plain": [
       "6968"
      ]
     },
     "execution_count": 6,
     "metadata": {},
     "output_type": "execute_result"
    }
   ],
   "source": [
    "len(df[\"Culture\"].unique())"
   ]
  },
  {
   "cell_type": "code",
   "execution_count": 7,
   "id": "b44c16ec",
   "metadata": {},
   "outputs": [
    {
     "data": {
      "text/plain": [
       "array(['probably American', 'Flemish', 'American',\n",
       "       'Indian, Coromandel Coast, for British market', 'Anglo-American',\n",
       "       'Japanese', 'French', 'Malaysian', 'German', 'Spanish or Italian'],\n",
       "      dtype=object)"
      ]
     },
     "execution_count": 7,
     "metadata": {},
     "output_type": "execute_result"
    }
   ],
   "source": [
    "df[\"Culture\"].unique()[:10]"
   ]
  },
  {
   "cell_type": "markdown",
   "id": "7ea201d8",
   "metadata": {},
   "source": [
    "# Preprocessing"
   ]
  },
  {
   "cell_type": "code",
   "execution_count": 8,
   "id": "51211cab",
   "metadata": {},
   "outputs": [],
   "source": [
    "def prep_culture(df):\n",
    "    \n",
    "    liste = []\n",
    "    for val in df['Culture']:\n",
    "        temp = val.split()\n",
    "        if len(temp)==1:\n",
    "            liste.append(val)\n",
    "        elif 'for ' in val :\n",
    "            temp = val.split(',')\n",
    "            if 'ilt' in val:\n",
    "                temp = temp[1].split()\n",
    "                liste.append(temp[0])\n",
    "            else :        \n",
    "                temp = temp[0].split('(')\n",
    "                temp = temp[0].split('with') \n",
    "                temp = temp[0].split('for') \n",
    "                temp = temp[0].split()\n",
    "                if 'robably' in temp[0] or 'ossibly' in temp[0]:     \n",
    "                    liste.append(\" \".join(temp[1:]))\n",
    "                else : liste.append(temp[0])             \n",
    "        elif len(temp)==2 and ('robably' in val or 'ossibly' in val):\n",
    "            if 'robably' not in temp[0] and 'ossibly' not in temp[0]:\n",
    "                temp = temp[0].split(',')\n",
    "                liste.append(temp[0])\n",
    "            else : liste.append(temp[1])     \n",
    "        elif len(temp)==2:\n",
    "            temp = temp[0].split(',')\n",
    "            liste.append(temp[0])\n",
    "        elif '(' in val and 'arket' not in val and 'or ' not in val:\n",
    "            temp = val.split('(')\n",
    "            temp = temp[0].split(',')\n",
    "            temp = temp[0].split(';')\n",
    "            temp = temp[0].split()\n",
    "            if 'robably' in temp[0] or 'ossibly' in temp[0]:     \n",
    "                liste.append(\" \".join(temp[1:]))\n",
    "            else : liste.append(temp[0])       \n",
    "        elif ' or ' in val and '(' not in val: #several cultuer given\n",
    "            temp = val.split(', ')\n",
    "            \n",
    "            if 'robably' in temp[0] or 'ossibly' in temp[0]: \n",
    "                temp = temp[0].split()\n",
    "                liste.append(\" \".join(temp[1:]))\n",
    "            elif 'ilt' not in temp[0] : \n",
    "                liste.append(temp[0])\n",
    "            else:\n",
    "                temp = temp[1].split(';')\n",
    "                liste.append(temp[0])\n",
    "                \n",
    "        elif 'arket' in val : #to remove the market and keep the original culture\n",
    "            temp = val.split(',')\n",
    "            temp = temp[0].split('(') \n",
    "            temp = temp[0].split('for')\n",
    "            temp = temp[0].split('with')  \n",
    "            temp = temp[0].split()\n",
    "            if 'robably' in temp[0] or 'ossibly' in temp[0]:                 \n",
    "                liste.append(\" \".join(temp[1:]))\n",
    "            else : liste.append(temp[0]) \n",
    "\n",
    "        else :    \n",
    "            temp = val.split(';')\n",
    "            temp = temp[0].split(', ')       \n",
    "            if 'ilt' in temp[0]: \n",
    "                if 'robably' in (\" \".join(temp[1:])) or 'ossibly' in (\" \".join(temp[1:])):\n",
    "                    temp = (\" \".join(temp[1:])).split()\n",
    "                    if 'robably' in temp[0] or 'ossibly' in temp[0]:                 \n",
    "                        liste.append(\" \".join(temp[1:]))\n",
    "                    else : liste.append(temp[0])\n",
    "                else : liste.append(\" \".join(temp[1:]))\n",
    "                \n",
    "            else : \n",
    "                temp = temp[0].split('(') \n",
    "                temp = temp[0].split(':') \n",
    "                temp = temp[0].split('with') \n",
    "                temp = temp[0].split() \n",
    "                if 'robably' in temp[0] or 'ossibly' in temp[0]:                 \n",
    "                    liste.append(\" \".join(temp[1:]))\n",
    "                else : liste.append(temp[0])\n",
    "                \n",
    "    return liste"
   ]
  },
  {
   "cell_type": "code",
   "execution_count": 9,
   "id": "34a4992a",
   "metadata": {},
   "outputs": [
    {
     "name": "stdout",
     "output_type": "stream",
     "text": [
      "2128\n",
      "['\"Peking\"' 'Abau' 'Abelam' 'Abenaki' 'Abor' 'Abron' 'Acehnese'\n",
      " 'Achaemenid' 'Achaemenid or Seleucid' 'Acheen' 'Acheulean' 'Acoma'\n",
      " 'Adjora or Aion' 'Adjora or Kopar' 'Admiralty' 'Aduma' 'Aegean' 'Afghan'\n",
      " 'Afghan or Persian' 'Afghanistan' 'Afghanistan or Central Asia'\n",
      " 'Afghanistani' 'Africa' 'African' 'Afro-Ecuadorian' 'Aguada' 'Akan'\n",
      " 'Akimel' 'Akkadian' 'Akkadian or Neo-Sumerian']\n"
     ]
    }
   ],
   "source": [
    "df = df.dropna(axis=0, subset=['Medium', 'Classification','Dimensions','Culture','Object Begin Date'])\n",
    "Culture = prep_culture(df)\n",
    "df['Culture']=Culture\n",
    "print(len(np.unique(Culture)))\n",
    "print(np.unique(Culture)[:30])"
   ]
  },
  {
   "cell_type": "markdown",
   "id": "8b4ae643",
   "metadata": {},
   "source": [
    "There are too much cultures... Let's filter them"
   ]
  },
  {
   "cell_type": "code",
   "execution_count": 10,
   "id": "6a83cd13",
   "metadata": {},
   "outputs": [
    {
     "data": {
      "image/png": "[encoded data removed]",
      "text/plain": [
       "<Figure size 432x288 with 1 Axes>"
      ]
     },
     "metadata": {
      "needs_background": "light"
     },
     "output_type": "display_data"
    }
   ],
   "source": [
    "import matplotlib.pyplot as plt\n",
    "counts = [Culture.count(s) for s in np.unique(Culture)]\n",
    "plt.hist(counts, bins=50)\n",
    "plt.xlim(0, 1000)\n",
    "plt.show()"
   ]
  },
  {
   "cell_type": "markdown",
   "id": "03e83187",
   "metadata": {},
   "source": [
    "Below 500 images for a culture is not enough ..."
   ]
  },
  {
   "cell_type": "code",
   "execution_count": 11,
   "id": "ea7f688e",
   "metadata": {},
   "outputs": [
    {
     "name": "stdout",
     "output_type": "stream",
     "text": [
      "Number of culture to keep 35\n",
      "['American', 'Asmat', 'Austrian', 'British', 'Byzantine', 'China', 'Chinese', 'Coptic', 'Cypriot', 'Dutch', 'Etruscan', 'European', 'Flemish', 'Frankish', 'French', 'German', 'Greek', 'India', 'Indian', 'Indonesia', 'Iran', 'Italian', 'Japan', 'Japanese', 'Korea', 'Mexican', 'Minoan', 'Moche', 'Roman', 'Russian', 'Sasanian', 'South', 'Spanish', 'Swiss', 'Thailand']\n"
     ]
    }
   ],
   "source": [
    "n = 0\n",
    "cultures_filtered = []\n",
    "for s in np.unique(Culture):\n",
    "    if (\" or \" in s) or (\"probably\" in s) or (\"possibly\" in s) or (Culture.count(s) < 500):\n",
    "        pass\n",
    "    else:\n",
    "        n+=1\n",
    "        cultures_filtered.append(s)\n",
    "print(\"Number of culture to keep\", n)\n",
    "print(cultures_filtered)"
   ]
  },
  {
   "cell_type": "markdown",
   "id": "d04d302b",
   "metadata": {},
   "source": [
    "* Chinese <-> China\n",
    "* Indian<-> India\n",
    "* Japan<->Japenese\n",
    "* Dutch<->German\n",
    "* Frankish<->French\n",
    "* Sasanian<->Iran\n",
    "* Minoan<->Greek\n",
    "* Italian<->Etruscan<->Roman\n",
    "* Remove European (too vague)\n",
    "* Remove Asmat, North, South, Cypriot, Coptic "
   ]
  },
  {
   "cell_type": "code",
   "execution_count": 12,
   "id": "f00b4899",
   "metadata": {},
   "outputs": [],
   "source": [
    "Culture_filtered = []\n",
    "for culture in Culture:\n",
    "    if culture==\"China\":\n",
    "        Culture_filtered.append(\"Chinese\")\n",
    "    elif culture==\"India\":\n",
    "        Culture_filtered.append(\"Indian\")\n",
    "    elif culture==\"Japan\":\n",
    "        Culture_filtered.append(\"Japenese\")\n",
    "    elif culture==\"Dutch\":\n",
    "        Culture_filtered.append(\"German\")\n",
    "    elif culture==\"Frankish\":\n",
    "        Culture_filtered.append(\"French\")\n",
    "    elif culture==\"Sasanian\":\n",
    "        Culture_filtered.append(\"Iran\")\n",
    "    elif culture==\"Minoan\":\n",
    "        Culture_filtered.append(\"Greek\")\n",
    "    elif culture==\"Roman\" or culture==\"Etruscan\":\n",
    "        Culture_filtered.append(\"Italian\")\n",
    "    elif culture in [\"European\", \"Asmat\", \"North\", \"South\", \"Cypriot\", \"Coptic\"]:\n",
    "        Culture_filtered.append(\"remove\")\n",
    "    elif culture in cultures_filtered:\n",
    "        Culture_filtered.append(culture)\n",
    "    else:\n",
    "        Culture_filtered.append(\"remove\")"
   ]
  },
  {
   "cell_type": "code",
   "execution_count": 13,
   "id": "764d007e",
   "metadata": {},
   "outputs": [
    {
     "name": "stdout",
     "output_type": "stream",
     "text": [
      "23\n",
      "['American' 'Austrian' 'British' 'Byzantine' 'Chinese' 'Flemish' 'French'\n",
      " 'German' 'Greek' 'Indian' 'Indonesia' 'Iran' 'Italian' 'Japanese'\n",
      " 'Japenese' 'Korea' 'Mexican' 'Moche' 'Russian' 'Spanish' 'Swiss'\n",
      " 'Thailand' 'remove']\n"
     ]
    }
   ],
   "source": [
    "print(len(np.unique(Culture_filtered)))\n",
    "print(np.unique(Culture_filtered))"
   ]
  },
  {
   "cell_type": "code",
   "execution_count": 14,
   "id": "578106cc",
   "metadata": {},
   "outputs": [
    {
     "data": {
      "text/plain": [
       "103490"
      ]
     },
     "execution_count": 14,
     "metadata": {},
     "output_type": "execute_result"
    }
   ],
   "source": [
    "# remove the samples if their culture is \"remove\"\n",
    "df[\"Culture_filtered\"] = Culture_filtered\n",
    "df_filtered = df[df['Culture_filtered']!=\"remove\"]\n",
    "df_filtered.shape[0]"
   ]
  },
  {
   "cell_type": "code",
   "execution_count": 15,
   "id": "8cf4c9a1",
   "metadata": {},
   "outputs": [
    {
     "data": {
      "text/plain": [
       "array(['American', 'Flemish', 'Indian', 'Japanese', 'French', 'German',\n",
       "       'Italian', 'Spanish', 'Austrian', 'British', 'Swiss', 'Chinese',\n",
       "       'Russian', 'Mexican', 'Greek', 'Byzantine', 'Japenese', 'Korea',\n",
       "       'Thailand', 'Indonesia', 'Iran', 'Moche'], dtype=object)"
      ]
     },
     "execution_count": 15,
     "metadata": {},
     "output_type": "execute_result"
    }
   ],
   "source": [
    "df_filtered[\"Culture_filtered\"].unique()"
   ]
  },
  {
   "cell_type": "code",
   "execution_count": 16,
   "id": "d7313984",
   "metadata": {},
   "outputs": [
    {
     "data": {
      "text/plain": [
       "(82252, 56)"
      ]
     },
     "execution_count": 16,
     "metadata": {},
     "output_type": "execute_result"
    }
   ],
   "source": [
    "df_images = df_filtered[df_filtered['Is Public Domain']]\n",
    "df_images.shape"
   ]
  },
  {
   "cell_type": "code",
   "execution_count": 17,
   "id": "768f0d49",
   "metadata": {},
   "outputs": [],
   "source": [
    "cultures_to_keep = df_filtered[\"Culture_filtered\"].unique()\n",
    "\n",
    "dico_dfs = {}\n",
    "\n",
    "for culture_to_keep in cultures_to_keep:\n",
    "    dico_dfs[culture_to_keep] = df_images[(df_images['Object ID'] > 0) & (df_images['Culture_filtered']==culture_to_keep)]"
   ]
  },
  {
   "cell_type": "code",
   "execution_count": 18,
   "id": "6bf4161a",
   "metadata": {},
   "outputs": [],
   "source": [
    "for culture_to_keep in cultures_to_keep:\n",
    "    dico_dfs[culture_to_keep] = dico_dfs[culture_to_keep][[\"Object ID\", \"Culture_filtered\"]]"
   ]
  },
  {
   "cell_type": "code",
   "execution_count": 19,
   "id": "42c08c3f",
   "metadata": {},
   "outputs": [
    {
     "name": "stdout",
     "output_type": "stream",
     "text": [
      "['Indian', 'Japanese', 'French', 'German', 'Italian', 'Spanish', 'British', 'Chinese', 'Greek', 'Japenese', 'Iran']\n"
     ]
    }
   ],
   "source": [
    "cultures_image_ok = []\n",
    "for culture_to_keep in cultures_to_keep:\n",
    "    data_culture = dico_dfs[culture_to_keep]\n",
    "    n_img = data_culture.shape[0]\n",
    "    if n_img > 1000:\n",
    "        cultures_image_ok.append(culture_to_keep)\n",
    "\n",
    "print(cultures_image_ok)"
   ]
  },
  {
   "cell_type": "code",
   "execution_count": 20,
   "id": "d32d3f5d",
   "metadata": {},
   "outputs": [],
   "source": [
    "dico_dfs = {k:v for (k,v) in dico_dfs.items() if k in cultures_image_ok} "
   ]
  },
  {
   "cell_type": "code",
   "execution_count": 28,
   "id": "58f4b5f1",
   "metadata": {},
   "outputs": [
    {
     "name": "stdout",
     "output_type": "stream",
     "text": [
      "Indian : 2.184013650085313\n",
      "Japanese : 3.316708229426434\n",
      "French : 15.324845780286127\n",
      "German : 8.100800630003938\n",
      "Italian : 17.08360677254233\n",
      "Spanish : 1.9963249770311065\n",
      "British : 8.203176269851687\n",
      "Chinese : 15.757973487334295\n",
      "Greek : 5.708098175613598\n",
      "Japenese : 19.733560834755217\n",
      "Iran : 2.5908911930699565\n"
     ]
    }
   ],
   "source": [
    "n_tot = np.sum([len(dico_dfs[culture_to_keep]) for culture_to_keep in cultures_image_ok])\n",
    "\n",
    "for culture_to_keep in cultures_image_ok:\n",
    "    print(culture_to_keep, \":\", 100*len(dico_dfs[culture_to_keep])/ n_tot, \"%\")"
   ]
  },
  {
   "cell_type": "code",
   "execution_count": 21,
   "id": "3899b336",
   "metadata": {},
   "outputs": [],
   "source": [
    "num_samples = 1000\n",
    "\n",
    "dico_cultures = {}\n",
    "\n",
    "for culture_to_keep in cultures_image_ok:\n",
    "    dico_cultures[culture_to_keep] = dico_dfs[culture_to_keep].sample(n=num_samples, random_state=42)\n",
    "\n"
   ]
  },
  {
   "cell_type": "code",
   "execution_count": 22,
   "id": "9790baed",
   "metadata": {},
   "outputs": [],
   "source": [
    "import os\n",
    "import urllib.request\n",
    "import requests"
   ]
  },
  {
   "cell_type": "code",
   "execution_count": 23,
   "id": "35f39831",
   "metadata": {},
   "outputs": [],
   "source": [
    "def save_images(folder,df):\n",
    "    n = df.shape[0]\n",
    "    if not os.path.exists(folder):\n",
    "        os.makedirs(folder)\n",
    "    os.chdir(folder)\n",
    "    for i in range(n):\n",
    "        Id = df.iloc[i]['Object ID']\n",
    "        url = 'https://collectionapi.metmuseum.org/public/collection/v1/objects/'+str(Id)\n",
    "        #r = requests.get(url)\n",
    "        try:\n",
    "            #urlopen(url)\n",
    "            r = requests.get(url)\n",
    "            url_image = r.json()['primaryImageSmall']\n",
    "            name = folder+\"_\"+str(Id)+\".jpg\"\n",
    "            urllib.request.urlretrieve(url_image, name)  \n",
    "            r.close()\n",
    "        except:\n",
    "            print(i)\n",
    "            pass\n",
    "\n",
    "    os.chdir('C:\\\\Users\\\\MARY Loïc\\\\Desktop\\\\PROJET MUSEE')\n"
   ]
  },
  {
   "cell_type": "code",
   "execution_count": 24,
   "id": "c03e204d",
   "metadata": {
    "collapsed": true
   },
   "outputs": [
    {
     "name": "stdout",
     "output_type": "stream",
     "text": [
      "11\n",
      "25\n",
      "35\n",
      "73\n",
      "116\n",
      "130\n",
      "156\n",
      "171\n",
      "208\n",
      "381\n",
      "424\n",
      "582\n",
      "692\n",
      "762\n",
      "836\n",
      "853\n",
      "949\n",
      "953\n",
      "959\n",
      "970\n",
      "ok\n",
      "83\n",
      "143\n",
      "316\n",
      "430\n",
      "453\n",
      "589\n",
      "600\n",
      "691\n",
      "705\n",
      "807\n",
      "ok\n",
      "131\n",
      "200\n",
      "458\n",
      "521\n",
      "534\n",
      "773\n",
      "839\n",
      "ok\n",
      "166\n",
      "337\n",
      "860\n",
      "ok\n",
      "627\n",
      "ok\n",
      "107\n",
      "133\n",
      "150\n",
      "343\n",
      "393\n",
      "572\n",
      "673\n",
      "912\n",
      "947\n",
      "ok\n",
      "82\n",
      "248\n",
      "254\n",
      "274\n",
      "306\n",
      "338\n",
      "381\n",
      "458\n",
      "523\n",
      "546\n",
      "582\n",
      "784\n",
      "842\n",
      "857\n",
      "ok\n",
      "21\n",
      "71\n",
      "161\n",
      "317\n",
      "426\n",
      "686\n",
      "853\n",
      "ok\n",
      "399\n",
      "420\n",
      "570\n",
      "617\n",
      "619\n",
      "794\n",
      "850\n",
      "998\n",
      "ok\n",
      "38\n",
      "237\n",
      "477\n",
      "ok\n",
      "184\n",
      "292\n",
      "331\n",
      "333\n",
      "385\n",
      "492\n",
      "632\n",
      "671\n",
      "789\n",
      "807\n",
      "834\n",
      "941\n",
      "ok\n",
      "Finish !\n"
     ]
    }
   ],
   "source": [
    "for culture_to_keep in cultures_image_ok:\n",
    "    save_images(culture_to_keep, dico_cultures[culture_to_keep])\n",
    "    print(\"ok\")\n",
    "\n",
    "\n",
    "print(\"Finish !\")"
   ]
  }
 ],
 "metadata": {
  "kernelspec": {
   "display_name": "Python 3 (ipykernel)",
   "language": "python",
   "name": "python3"
  },
  "language_info": {
   "codemirror_mode": {
    "name": "ipython",
    "version": 3
   },
   "file_extension": ".py",
   "mimetype": "text/x-python",
   "name": "python",
   "nbconvert_exporter": "python",
   "pygments_lexer": "ipython3",
   "version": "3.9.7"
  }
 },
 "nbformat": 4,
 "nbformat_minor": 5
}
